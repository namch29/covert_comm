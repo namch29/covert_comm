{
 "cells": [
  {
   "cell_type": "code",
   "execution_count": 1,
   "id": "72daf6ee-07a2-4daa-861f-3bc4cf578fc5",
   "metadata": {},
   "outputs": [],
   "source": [
    "from common.Parameters import Para\n",
    "from common.EstimatedCSI import EstimatedCSI\n",
    "from common.BuildDataset import GenerateDataset, SignalDataset\n",
    "from common.dnn import BackscatterDNN, accuracy\n",
    "\n",
    "import numpy as np\n",
    "import torch as T\n",
    "import matplotlib.pyplot as plt\n",
    "from tqdm import tqdm"
   ]
  },
  {
   "cell_type": "code",
   "execution_count": 2,
   "id": "0428eeb6-99c9-471c-8d93-4ea70a405721",
   "metadata": {},
   "outputs": [
    {
     "name": "stdout",
     "output_type": "stream",
     "text": [
      "Vary alpha_dt:1\n",
      "Vary alpha_dt:1\n",
      "Wall time: 54.8 s\n"
     ]
    }
   ],
   "source": [
    "%%time\n",
    "para = Para(vary=1, n_dataset=100, n_test=100) #SNR = vary, default: n_dataset=100\n",
    "D, dataset = GenerateDataset(para)\n",
    "\n",
    "train_ds = SignalDataset(dataset)\n",
    "bat_size = 1000\n",
    "train_ldr = T.utils.data.DataLoader(train_ds, batch_size=bat_size, shuffle=True)\n",
    "\n",
    "validate_dataset = SignalDataset(GenerateDataset(Para(vary=1,n_dataset=10))[1])"
   ]
  },
  {
   "cell_type": "code",
   "execution_count": 3,
   "id": "b0991750-87b4-4d6f-beab-ba4d45194d40",
   "metadata": {},
   "outputs": [
    {
     "data": {
      "text/plain": [
       "((10000, 201), (10000, 601))"
      ]
     },
     "execution_count": 3,
     "metadata": {},
     "output_type": "execute_result"
    }
   ],
   "source": [
    "D.shape, dataset.shape"
   ]
  },
  {
   "cell_type": "code",
   "execution_count": 4,
   "id": "02c76e97-70a9-49ff-8dca-ad705634efa4",
   "metadata": {},
   "outputs": [
    {
     "name": "stdout",
     "output_type": "stream",
     "text": [
      "learning rate:0.001\n",
      "==== Training ====\n",
      "\n",
      "epoch =    0   loss = 3.9580\n",
      "acc_train = 0.9540\n",
      "\n",
      "epoch =   10   loss = 0.2652\n",
      "acc_train = 0.9460\n",
      "\n",
      "epoch =   20   loss = 0.2554\n",
      "acc_train = 0.9460\n",
      "\n",
      "epoch =   30   loss = 0.2337\n",
      "acc_train = 0.9430\n",
      "\n",
      "epoch =   40   loss = 0.1848\n",
      "acc_train = 0.9460\n",
      "\n",
      "epoch =   50   loss = 0.1591\n",
      "acc_train = 0.9470\n",
      "\n",
      "epoch =   60   loss = 0.3599\n",
      "acc_train = 0.9430\n",
      "\n",
      "epoch =   70   loss = 0.2777\n",
      "acc_train = 0.9470\n",
      "\n",
      "epoch =   80   loss = 0.1521\n",
      "acc_train = 0.9380\n",
      "\n",
      "epoch =   90   loss = 0.1391\n",
      "acc_train = 0.9400\n",
      "Done \n",
      "Wall time: 5min 5s\n"
     ]
    },
    {
     "data": {
      "image/png": "[encoded data removed]",
      "text/plain": [
       "<Figure size 432x288 with 1 Axes>"
      ]
     },
     "metadata": {
      "needs_background": "light"
     },
     "output_type": "display_data"
    }
   ],
   "source": [
    "%%time\n",
    "row, col = dataset.shape\n",
    "input_size=(col-1)\n",
    "numClasses = 2\n",
    "backscatter_net = BackscatterDNN(input_size=input_size,numClasses=numClasses)\n",
    "\n",
    "running_loss=[]\n",
    "running_acc=[]\n",
    "\n",
    "print('==== Training ====')\n",
    "max_epochs = 100\n",
    "ep_log_interval = 10\n",
    "\n",
    "for epoch in range(0, max_epochs):\n",
    "    epoch_loss = 0.0            # for one full epoch\n",
    "    epoch_loss_custom = 0.0\n",
    "#     num_lines_read = 0\n",
    "    acc_train = 0\n",
    "    \n",
    "    for (batch_idx, batch) in enumerate(train_ldr):\n",
    "        X = batch['predictors']  # [10,4]  inputs\n",
    "#         print(X.shape)\n",
    "        Y = batch['target']      # [10,1]  targets\n",
    "#         print(f'Y \\n{Y}')\n",
    "        oupt = backscatter_net(X)           # [10,1]  computeds \n",
    "#         print('out:\\n',oupt)\n",
    "        loss_val = backscatter_net.loss(oupt, Y)   # a tensor\n",
    "        epoch_loss += loss_val.item()  # accumulate\n",
    "\n",
    "        backscatter_net.optimizer.zero_grad() # reset all gradients\n",
    "        loss_val.backward()   # compute all gradients\n",
    "        backscatter_net.optimizer.step()      # update all weights\n",
    "        \n",
    "    ##########\n",
    "    running_loss.append(epoch_loss)\n",
    "    backscatter_net.eval()\n",
    "    acc_train = accuracy(backscatter_net, validate_dataset)\n",
    "    backscatter_net.train()\n",
    "    running_acc.append(acc_train)\n",
    "    ##########\n",
    "        \n",
    "    if epoch % ep_log_interval == 0:\n",
    "        print(\"\\nepoch = %4d   loss = %0.4f\" % \\\n",
    "                (epoch, epoch_loss))\n",
    "        print(\"acc_train = %0.4f\" % acc_train)\n",
    "        # print(\"\")\n",
    "plt.plot(running_loss)\n",
    "        \n",
    "print(\"Done \")"
   ]
  },
  {
   "cell_type": "code",
   "execution_count": null,
   "id": "5e7ae459-9cc4-4370-8e11-ffcd1fbae924",
   "metadata": {},
   "outputs": [
    {
     "data": {
      "text/plain": [
       "(0.0, 1.0)"
      ]
     },
     "execution_count": 5,
     "metadata": {},
     "output_type": "execute_result"
    },
    {
     "data": {
      "image/png": "[encoded data removed]",
      "text/plain": [
       "<Figure size 432x288 with 1 Axes>"
      ]
     },
     "metadata": {
      "needs_background": "light"
     },
     "output_type": "display_data"
    }
   ],
   "source": [
    "plt.plot(running_acc)\n",
    "plt.ylim([0,1])"
   ]
  },
  {
   "cell_type": "code",
   "execution_count": 16,
   "id": "fb3b67f6-61fd-4133-af2b-a4fc3f063ab5",
   "metadata": {},
   "outputs": [
    {
     "data": {
      "text/plain": [
       "tensor([False])"
      ]
     },
     "execution_count": 16,
     "metadata": {},
     "output_type": "execute_result"
    }
   ],
   "source": [
    "backscatter_net.eval()\n",
    "inpts = train_ds[0]['predictors']\n",
    "target = train_ds[0]['target']    # float32  [0.0] or [1.0]\n",
    "with T.no_grad():\n",
    "    oupt = backscatter_net(inpts)\n",
    "oupt>=0.5"
   ]
  },
  {
   "cell_type": "code",
   "execution_count": 6,
   "id": "c5ef2503-9db9-4dd0-8e1e-fcf70c788f8e",
   "metadata": {},
   "outputs": [
    {
     "name": "stdout",
     "output_type": "stream",
     "text": [
      "\n",
      "Accuracy on train data = 98.45%\n"
     ]
    }
   ],
   "source": [
    "backscatter_net.eval()\n",
    "acc_train = accuracy(backscatter_net, train_ds)\n",
    "print(\"\\nAccuracy on train data = %0.2f%%\" %(acc_train * 100))"
   ]
  },
  {
   "cell_type": "code",
   "execution_count": 39,
   "id": "421687d2-44c5-46b6-97a9-f48ffe7accb4",
   "metadata": {},
   "outputs": [
    {
     "data": {
      "text/plain": [
       "BackscatterDNN(\n",
       "  (model): Sequential(\n",
       "    (0): Linear(in_features=600, out_features=600, bias=True)\n",
       "    (1): Tanh()\n",
       "    (2): Linear(in_features=600, out_features=1000, bias=True)\n",
       "    (3): Tanh()\n",
       "    (4): Linear(in_features=1000, out_features=600, bias=True)\n",
       "    (5): Tanh()\n",
       "    (6): Linear(in_features=600, out_features=1, bias=True)\n",
       "    (7): Sigmoid()\n",
       "  )\n",
       "  (loss): BCELoss()\n",
       ")"
      ]
     },
     "execution_count": 39,
     "metadata": {},
     "output_type": "execute_result"
    }
   ],
   "source": [
    "backscatter_net.train()"
   ]
  },
  {
   "cell_type": "code",
   "execution_count": 7,
   "id": "7a338e56-013b-4931-ba82-73e99a523ed5",
   "metadata": {},
   "outputs": [
    {
     "name": "stdout",
     "output_type": "stream",
     "text": [
      "\n",
      "Iteration:0\n",
      "Accuracy on test data = 93.53%\n",
      "\n",
      "Iteration:1\n",
      "Accuracy on test data = 93.89%\n",
      "\n",
      "Iteration:2\n",
      "Accuracy on test data = 93.37%\n",
      "\n",
      "Iteration:3\n",
      "Accuracy on test data = 95.17%\n",
      "\n",
      "Iteration:4\n",
      "Accuracy on test data = 93.96%\n",
      "\n",
      "Iteration:5\n",
      "Accuracy on test data = 96.06%\n",
      "\n",
      "Iteration:6\n",
      "Accuracy on test data = 92.61%\n",
      "\n",
      "Iteration:7\n",
      "Accuracy on test data = 90.69%\n",
      "\n",
      "Iteration:8\n",
      "Accuracy on test data = 94.49%\n",
      "\n",
      "Iteration:9\n",
      "Accuracy on test data = 94.69%\n",
      "Wall time: 9min 37s\n"
     ]
    }
   ],
   "source": [
    "%%time\n",
    "results=[]\n",
    "for i in range(10):\n",
    "\n",
    "    D2 = GenerateDataset(para)\n",
    "    numRow2, numCol2 = D2.shape\n",
    "    dataset2 = np.asmatrix(D2)\n",
    "    dataset2 = np.concatenate((np.real(dataset2[:,:numCol2-1]),np.imag(dataset2[:,:numCol2-1]),\n",
    "                              np.absolute(dataset2[:,:numCol-1]),np.real(dataset2[:,-1])),axis=1)\n",
    "    test_ds = SignalDataset(dataset2)\n",
    "    test_acc = accuracy(backscatter_net, test_ds)\n",
    "    results.append(test_acc)\n",
    "    print(f'\\nIteration:{i}')\n",
    "    print(\"Accuracy on test data = %0.2f%%\" %(test_acc * 100))\n",
    "    "
   ]
  },
  {
   "cell_type": "code",
   "execution_count": 3,
   "id": "ed0f3caa-8bcd-4637-ab86-f4b3e6ac5339",
   "metadata": {},
   "outputs": [
    {
     "data": {
      "image/png": "[encoded data removed]",
      "text/plain": [
       "<Figure size 432x432 with 4 Axes>"
      ]
     },
     "metadata": {
      "needs_background": "light"
     },
     "output_type": "display_data"
    }
   ],
   "source": [
    "x = np.arange(0, 1, .01)\n",
    "fig, [[ax1, ax2], [ax3, ax4]] = plt.subplots(2, 2, figsize=(6, 6))\n",
    "fig.text(0.5, 0.975, 'Default settings',\n",
    "         horizontalalignment='center',\n",
    "         verticalalignment='top')\n",
    "\n",
    "ax1.plot(x * 1e5 + 1e10, x * 1e-10 + 1e-5)\n",
    "\n",
    "ax2.plot(x * 1e5, x * 1e-4)\n",
    "\n",
    "ax3.plot(-x * 1e5 - 1e10, -x * 1e-5 - 1e-10)\n",
    "\n",
    "ax4.plot(-x * 1e5, -x * 1e-4)\n",
    "\n",
    "fig.subplots_adjust(wspace=0.7, hspace=0.6)"
   ]
  }
 ],
 "metadata": {
  "kernelspec": {
   "display_name": "Python 3",
   "language": "python",
   "name": "python3"
  },
  "language_info": {
   "codemirror_mode": {
    "name": "ipython",
    "version": 3
   },
   "file_extension": ".py",
   "mimetype": "text/x-python",
   "name": "python",
   "nbconvert_exporter": "python",
   "pygments_lexer": "ipython3",
   "version": "3.6.13"
  }
 },
 "nbformat": 4,
 "nbformat_minor": 5
}
